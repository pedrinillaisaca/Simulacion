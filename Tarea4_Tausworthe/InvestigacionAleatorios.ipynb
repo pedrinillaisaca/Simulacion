{
  "nbformat": 4,
  "nbformat_minor": 0,
  "metadata": {
    "colab": {
      "name": "InvestigacionAleatorios.ipynb",
      "provenance": []
    },
    "kernelspec": {
      "name": "python3",
      "display_name": "Python 3"
    },
    "language_info": {
      "name": "python"
    }
  },
  "cells": [
    {
      "cell_type": "markdown",
      "source": [
        "Para mejorar la generación de numeros aleatorios se utiliza procesos o algoritmo criptograficos, en base a ellos realizar la investigación e implementación del algoritmo Tausworthe"
      ],
      "metadata": {
        "id": "yuykRcc0cwgG"
      }
    },
    {
      "cell_type": "markdown",
      "source": [
        "Este tipo de generador de números es usado para aplicaciones criptográficas y en simulación consisten en generar un determinado número de bits y proceder con una operación xor entre los bits a continuación presentamos un ejemplo adiciona a esto podemos citar en siguiente ejemplo\n",
        "https://paconet.org/tausworthe.html"
      ],
      "metadata": {
        "id": "CwZY8HYUcwn-"
      }
    },
    {
      "cell_type": "code",
      "source": [
        "def funXor(a,b):\n",
        "  return 0 if a==b else 1\n"
      ],
      "metadata": {
        "id": "54dtzkehXJcL"
      },
      "execution_count": 3,
      "outputs": []
    },
    {
      "cell_type": "code",
      "source": [
        "# vamos a crear 10 numeros agrupados en 6 dijitos \n",
        "#procedemos a  dar valores a los 10 dijitos binarios \n",
        "#b1=b2=b3=0; b4=b5=b6=1; b7=b8=b9=0\n",
        "#nivel1=[[0,0,0,1,1,1],[0,0,0]]\n",
        "#nivel2=[[1,0,0,0]]\n",
        "\n",
        "nivel1=[0,0,0,1,1,1,0,0,0]\n",
        "nivel2=[1,0,0,0]\n",
        "\n",
        "grup=6\n",
        "nums=10\n",
        "index=0\n",
        "def recursion(level1, level2,limit):\n",
        "  global index\n",
        "  global grup\n",
        "  global nums\n",
        "  if len(level1)==limit:    \n",
        "    return level1 \n",
        "  else:\n",
        "    level1.append(funXor(level1[index],level2[index]))\n",
        "    level2.append(funXor(level1[index],level2[index]))\n",
        "    index+=1    \n",
        "    recursion(level1, level2,(grup*nums))\n",
        "    return level1\n",
        "\n",
        "\n",
        "\n",
        "numeros=recursion(nivel1,nivel2,(grup*nums))\n",
        "\n",
        "print(numeros)\n",
        "    "
      ],
      "metadata": {
        "colab": {
          "base_uri": "https://localhost:8080/"
        },
        "id": "yQVeklBsSMpC",
        "outputId": "eddb29ad-c545-4eb1-8a9f-da6b205a8681"
      },
      "execution_count": 54,
      "outputs": [
        {
          "output_type": "stream",
          "name": "stdout",
          "text": [
            "[0, 0, 0, 1, 1, 1, 0, 0, 0, 1, 0, 0, 1, 0, 1, 0, 1, 0, 0, 0, 1, 1, 0, 1, 1, 0, 0, 1, 1, 1, 1, 1, 0, 0, 1, 1, 1, 1, 0, 0, 0, 1, 0, 1, 1, 0, 1, 1, 1, 0, 0, 1, 0, 1, 0, 0, 1, 0, 0, 0]\n"
          ]
        }
      ]
    },
    {
      "cell_type": "code",
      "source": [
        "output=[numeros[i:i + grup] for i in range(0, len(numeros), grup)]\n",
        "print(output)"
      ],
      "metadata": {
        "colab": {
          "base_uri": "https://localhost:8080/"
        },
        "id": "e3FfrIvMgXMq",
        "outputId": "9b6d7cb1-65bf-4611-e9c9-5b28a203f44f"
      },
      "execution_count": 25,
      "outputs": [
        {
          "output_type": "stream",
          "name": "stdout",
          "text": [
            "[[0, 0, 0, 1, 1, 1], [0, 0, 0, 1, 0, 0], [1, 0, 1, 0, 1, 0], [0, 0, 1, 1, 0, 1], [1, 0, 0, 1, 1, 1], [1, 1, 0, 0, 1, 1], [1, 1, 0, 0, 0, 1], [0, 1, 1, 0, 1, 1], [1, 0, 0, 1, 0, 1], [0, 0, 1, 0, 0, 0]]\n"
          ]
        }
      ]
    },
    {
      "cell_type": "code",
      "source": [
        "listaF=[]\n",
        "listaF.clear()\n",
        "for i in output:\n",
        "    bits=list(reversed(i))\n",
        "    exponent=0\n",
        "    result=0    \n",
        "    for j in bits:      \n",
        "      if j==1:\n",
        "        result+=2**exponent\n",
        "      exponent+=1\n",
        "    listaF.append(result)\n",
        "    \n",
        "    \n",
        "print(listaF)"
      ],
      "metadata": {
        "colab": {
          "base_uri": "https://localhost:8080/"
        },
        "id": "lbDCvSEIkP6G",
        "outputId": "0b55a702-c9f1-4832-b966-b97c4f38b8d1"
      },
      "execution_count": 53,
      "outputs": [
        {
          "output_type": "stream",
          "name": "stdout",
          "text": [
            "[7, 4, 42, 13, 39, 51, 49, 27, 37, 8]\n"
          ]
        }
      ]
    }
  ]
}