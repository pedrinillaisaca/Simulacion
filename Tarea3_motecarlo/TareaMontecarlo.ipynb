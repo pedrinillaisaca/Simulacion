{
  "nbformat": 4,
  "nbformat_minor": 0,
  "metadata": {
    "colab": {
      "name": "TareaMontecarlo.ipynb",
      "provenance": [],
      "collapsed_sections": []
    },
    "kernelspec": {
      "name": "python3",
      "display_name": "Python 3"
    },
    "language_info": {
      "name": "python"
    }
  },
  "cells": [
    {
      "cell_type": "markdown",
      "source": [
        "**Ejercicios en clases**\n",
        "\n",
        "Utilizar tecnicas de monte-carlo para encontar una aproximación de la solución a una integral, para ello revisar el siguiente video https://www.youtube.com/watch?v=8Wo2a9h42gw.\n",
        "\n",
        "\n",
        "Materia extra:\n",
        "https://www.youtube.com/watch?v=6_kaYOr8kV8\n",
        "https://www.youtube.com/watch?v=BWWw68AjSi4\n",
        "\n",
        "Generar una introducción e implementar en python la resolución del problemas utilizando Monte-Carlo\n"
      ],
      "metadata": {
        "id": "WPmV9bPVgyeS"
      }
    },
    {
      "cell_type": "markdown",
      "source": [
        "##Introduccion \n",
        "El método de Montecarlo es usado para conocer si un punto está ubicado bajo la curva de una función integral para ello se generan números aleatorios tanto para la variable x e y, luego se procede a reemplazar los números aleatorios en las respectivas funciones para x_i aplicamos **xi=a+ramdom1.(b-a)** donde a y b son los rangos de la integral, ahora para **yi=ramdom2.M**, M representa a la cota superior en el eje Y, si no disponemos de la cota superior deberíamos graficar para conocer este dato, cada vez que vayamos reemplazando los números en las funciones antes mencionadas debemos aplicar una condicional **yi <=  f(xi)** para conocer cuántos números están ubicados por debajo de la función, finalmente al comprobar la función aplicando **(num_puntos_acertados/num_puntos_generados).(b-a).M** para calcular el área estimada "
      ],
      "metadata": {
        "id": "dprytPuynvum"
      }
    },
    {
      "cell_type": "code",
      "source": [
        "#importar las librerias necesarias\n",
        "import matplotlib.pyplot as plt\n",
        "import numpy as np\n",
        "import random\n"
      ],
      "metadata": {
        "id": "-IC7PYkcuT8r"
      },
      "execution_count": 135,
      "outputs": []
    },
    {
      "cell_type": "code",
      "source": [
        "def fun1(x):\n",
        "  return 1-x**2#x**3+2\n",
        "\n",
        "x=np.arange(0,1.1,0.10)\n",
        "\n",
        "plt.plot(x, [fun1(i) for i in x])\n"
      ],
      "metadata": {
        "colab": {
          "base_uri": "https://localhost:8080/",
          "height": 282
        },
        "id": "nDp9v-Kbt4qL",
        "outputId": "ecd99e32-5c9a-47bc-deb6-9c6b5ffc6b4e"
      },
      "execution_count": 222,
      "outputs": [
        {
          "output_type": "execute_result",
          "data": {
            "text/plain": [
              "[<matplotlib.lines.Line2D at 0x7fa11b422e90>]"
            ]
          },
          "metadata": {},
          "execution_count": 222
        },
        {
          "output_type": "display_data",
          "data": {
            "image/png": "[encoded data removed]",
            "text/plain": [
              "<Figure size 432x288 with 1 Axes>"
            ]
          },
          "metadata": {
            "needs_background": "light"
          }
        }
      ]
    },
    {
      "cell_type": "code",
      "source": [
        "#Genaracion de Numeros\n",
        "random.seed(20201121)\n",
        "ran_x = []\n",
        "ran_y = []\n",
        "\n",
        "\n",
        "ran_x.clear()\n",
        "ran_y.clear()\n",
        "\n",
        "for i in range(800):\n",
        "  ran_x.append(random.uniform(0.0,1.0))#random.uniform(0,1)\n",
        "  ran_y.append(random.uniform(0.0,1.0))"
      ],
      "metadata": {
        "id": "7rYMLc7exh9H"
      },
      "execution_count": 229,
      "outputs": []
    },
    {
      "cell_type": "code",
      "source": [
        "def fun_xi(a,b,ramdom_x):\n",
        "  return (a+ramdom_x)*(b-a)"
      ],
      "metadata": {
        "id": "AtiRMihSy-_z"
      },
      "execution_count": 224,
      "outputs": []
    },
    {
      "cell_type": "code",
      "source": [
        "def fun_yi(ramdom_y,m):\n",
        "  return ramdom_y*m"
      ],
      "metadata": {
        "id": "2yF4N31Zy_HJ"
      },
      "execution_count": 225,
      "outputs": []
    },
    {
      "cell_type": "code",
      "source": [
        "m=1\n",
        "a=0\n",
        "b=1\n",
        "aciertosList=[]\n",
        "valsY=[]\n",
        "\n",
        "\n",
        "aciertosList.clear()\n",
        "valsY.clear()\n",
        "for i in range(0,len(ran_x)):\n",
        "  if fun_yi(ran_y[i],M) <= fun_xi(a,b,fun1(ran_x[i])):#LLAMAR A FUN1 ES DE VITAL IMPORTANCIA\n",
        "    aciertosList.append((ran_x[i]))\n",
        "    valsY.append((ran_y[i]))\n",
        " \n",
        "#for i in aciertosList:\n",
        "#  valsY.append(fun1(i))\n",
        "\n",
        "\n"
      ],
      "metadata": {
        "id": "Nz71xUT3w8Th"
      },
      "execution_count": 230,
      "outputs": []
    },
    {
      "cell_type": "code",
      "source": [
        "plt.plot(x, [fun1(i) for i in x])\n",
        "plt.plot(aciertosList,valsY,'o')\n",
        "#plt.plot(valsY,aciertosList,'o')\n",
        "\n",
        "print(\"acierto: \",len(aciertosList))\n",
        "print(\"no acierto: \",len(ran_x)-len(aciertosList))"
      ],
      "metadata": {
        "colab": {
          "base_uri": "https://localhost:8080/",
          "height": 300
        },
        "id": "XbmP0xXe1_SK",
        "outputId": "7db08894-9580-498c-f270-caa1e8f06213"
      },
      "execution_count": 231,
      "outputs": [
        {
          "output_type": "stream",
          "name": "stdout",
          "text": [
            "acierto:  507\n",
            "no acierto:  293\n"
          ]
        },
        {
          "output_type": "display_data",
          "data": {
            "image/png": "[encoded data removed]",
            "text/plain": [
              "<Figure size 432x288 with 1 Axes>"
            ]
          },
          "metadata": {
            "needs_background": "light"
          }
        }
      ]
    },
    {
      "cell_type": "code",
      "source": [
        "#(num_puntos_acertados/num_puntos_generados).(b-a).M \n",
        "print('Area real: 0.66')\n",
        "print('Area de Estimacion: ',len(aciertosList)/len(ran_x)*(b-a)*M)"
      ],
      "metadata": {
        "colab": {
          "base_uri": "https://localhost:8080/"
        },
        "id": "rh6tHKIaBL9R",
        "outputId": "1b8c1459-b592-47c4-e544-1d6fa5f67dc2"
      },
      "execution_count": 232,
      "outputs": [
        {
          "output_type": "stream",
          "name": "stdout",
          "text": [
            "Area real: 0.66\n",
            "Area de Estimacion:  0.63375\n"
          ]
        }
      ]
    },
    {
      "cell_type": "markdown",
      "source": [
        "##Conclusión: \n",
        "\n",
        "Finalmente se concluye que al generar una cantidad de números aleatorios obteneos una mejor aproximación a el área real  "
      ],
      "metadata": {
        "id": "NJrcyVK0tz_b"
      }
    }
  ]
}