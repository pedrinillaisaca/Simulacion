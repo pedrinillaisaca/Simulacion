{
 "cells": [
  {
   "cell_type": "markdown",
   "id": "plastic-bridges",
   "metadata": {},
   "source": [
    "Cuaderno con parametros"
   ]
  },
  {
   "cell_type": "markdown",
   "id": "gothic-character",
   "metadata": {},
   "source": [
    "Instalamos papermill\n"
   ]
  },
  {
   "cell_type": "markdown",
   "id": "herbal-aviation",
   "metadata": {},
   "source": [
    "Crearcion de Tags en la celda de Cuadernos jupyter"
   ]
  },
  {
   "cell_type": "code",
   "execution_count": 3,
   "id": "severe-marker",
   "metadata": {},
   "outputs": [],
   "source": [
    "import random\n",
    "import matplotlib.pyplot as plot"
   ]
  },
  {
   "cell_type": "code",
   "execution_count": 2,
   "id": "polished-indonesian",
   "metadata": {
    "tags": [
     "parametro"
    ]
   },
   "outputs": [],
   "source": []
  },
  {
   "cell_type": "code",
   "execution_count": null,
   "id": "mexican-forum",
   "metadata": {},
   "outputs": [],
   "source": [
    "cantNumeros=int(cantNumeros)"
   ]
  },
  {
   "cell_type": "code",
   "execution_count": null,
   "id": "later-heath",
   "metadata": {},
   "outputs": [],
   "source": [
    "sumas=[]\n",
    "\n",
    "for i in range(0,cantNumeros):\n",
    "    dado1=random.randint(1,7)\n",
    "    dado2=random.randint(1,7)\n",
    "    sumas.append(dado1+dado2)    \n",
    "# print(sumas)\n",
    "#intervalos=range(min(sumas),max(sumas)+2)\n",
    "intervalos=range(2,12+2)#Le sumo mas dos caso contrario no sale en la grafica\n",
    "\n",
    "plot.hist(x=sumas,bins=intervalos,color=\"red\", rwidth=0.85)\n",
    "plot.title('Histograma resultados')\n",
    "plot.xlabel('numeros')\n",
    "plot.ylabel('Frecuencia')\n",
    "plot.xticks(intervalos)\n",
    "\n",
    "plot.show() #dibujamos el histograma\n",
    "#print(\"Dados = \",dado1,\"dato 2= \",dado2)"
   ]
  }
 ],
 "metadata": {
  "celltoolbar": "Tags",
  "kernelspec": {
   "display_name": "Python 3",
   "language": "python",
   "name": "python3"
  },
  "language_info": {
   "codemirror_mode": {
    "name": "ipython",
    "version": 3
   },
   "file_extension": ".py",
   "mimetype": "text/x-python",
   "name": "python",
   "nbconvert_exporter": "python",
   "pygments_lexer": "ipython3",
   "version": "3.8.5"
  }
 },
 "nbformat": 4,
 "nbformat_minor": 5
}
