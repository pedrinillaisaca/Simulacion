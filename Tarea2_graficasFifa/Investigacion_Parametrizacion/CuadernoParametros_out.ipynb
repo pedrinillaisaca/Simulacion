{
 "cells": [
  {
   "cell_type": "code",
   "execution_count": 1,
   "id": "british-beast",
   "metadata": {
    "execution": {
     "iopub.execute_input": "2021-12-12T21:44:20.333972Z",
     "iopub.status.busy": "2021-12-12T21:44:20.333972Z",
     "iopub.status.idle": "2021-12-12T21:44:20.349599Z",
     "shell.execute_reply": "2021-12-12T21:44:20.349599Z"
    },
    "papermill": {
     "duration": 0.031224,
     "end_time": "2021-12-12T21:44:20.349599",
     "exception": false,
     "start_time": "2021-12-12T21:44:20.318375",
     "status": "completed"
    },
    "tags": [
     "injected-parameters"
    ]
   },
   "outputs": [],
   "source": [
    "# Parameters\n",
    "cantNumeros = \"2000\"\n"
   ]
  },
  {
   "cell_type": "markdown",
   "id": "plastic-bridges",
   "metadata": {
    "papermill": {
     "duration": 0.0,
     "end_time": "2021-12-12T21:44:20.365213",
     "exception": false,
     "start_time": "2021-12-12T21:44:20.365213",
     "status": "completed"
    },
    "tags": []
   },
   "source": [
    "Cuaderno con parametros"
   ]
  },
  {
   "cell_type": "markdown",
   "id": "gothic-character",
   "metadata": {
    "papermill": {
     "duration": 0.015629,
     "end_time": "2021-12-12T21:44:20.396468",
     "exception": false,
     "start_time": "2021-12-12T21:44:20.380839",
     "status": "completed"
    },
    "tags": []
   },
   "source": [
    "Instalamos papermill\n"
   ]
  },
  {
   "cell_type": "markdown",
   "id": "herbal-aviation",
   "metadata": {
    "papermill": {
     "duration": 0.0,
     "end_time": "2021-12-12T21:44:20.412092",
     "exception": false,
     "start_time": "2021-12-12T21:44:20.412092",
     "status": "completed"
    },
    "tags": []
   },
   "source": [
    "Crearcion de Tags en la celda de Cuadernos jupyter"
   ]
  },
  {
   "cell_type": "code",
   "execution_count": 2,
   "id": "severe-marker",
   "metadata": {
    "execution": {
     "iopub.execute_input": "2021-12-12T21:44:20.427710Z",
     "iopub.status.busy": "2021-12-12T21:44:20.427710Z",
     "iopub.status.idle": "2021-12-12T21:44:21.521420Z",
     "shell.execute_reply": "2021-12-12T21:44:21.521420Z"
    },
    "papermill": {
     "duration": 1.09371,
     "end_time": "2021-12-12T21:44:21.521420",
     "exception": false,
     "start_time": "2021-12-12T21:44:20.427710",
     "status": "completed"
    },
    "tags": []
   },
   "outputs": [],
   "source": [
    "import random\n",
    "import matplotlib.pyplot as plot"
   ]
  },
  {
   "cell_type": "code",
   "execution_count": null,
   "id": "polished-indonesian",
   "metadata": {
    "papermill": {
     "duration": 0.019801,
     "end_time": "2021-12-12T21:44:21.556845",
     "exception": false,
     "start_time": "2021-12-12T21:44:21.537044",
     "status": "completed"
    },
    "tags": [
     "parametro"
    ]
   },
   "outputs": [],
   "source": []
  },
  {
   "cell_type": "code",
   "execution_count": 3,
   "id": "mexican-forum",
   "metadata": {
    "execution": {
     "iopub.execute_input": "2021-12-12T21:44:21.579829Z",
     "iopub.status.busy": "2021-12-12T21:44:21.578828Z",
     "iopub.status.idle": "2021-12-12T21:44:21.585047Z",
     "shell.execute_reply": "2021-12-12T21:44:21.586051Z"
    },
    "papermill": {
     "duration": 0.020213,
     "end_time": "2021-12-12T21:44:21.586051",
     "exception": false,
     "start_time": "2021-12-12T21:44:21.565838",
     "status": "completed"
    },
    "tags": []
   },
   "outputs": [],
   "source": [
    "cantNumeros=int(cantNumeros)"
   ]
  },
  {
   "cell_type": "code",
   "execution_count": 4,
   "id": "later-heath",
   "metadata": {
    "execution": {
     "iopub.execute_input": "2021-12-12T21:44:21.641999Z",
     "iopub.status.busy": "2021-12-12T21:44:21.641999Z",
     "iopub.status.idle": "2021-12-12T21:44:21.945825Z",
     "shell.execute_reply": "2021-12-12T21:44:21.945825Z"
    },
    "papermill": {
     "duration": 0.352781,
     "end_time": "2021-12-12T21:44:21.945825",
     "exception": false,
     "start_time": "2021-12-12T21:44:21.593044",
     "status": "completed"
    },
    "tags": []
   },
   "outputs": [
    {
     "data": {
      "image/png": "[encoded data removed]",
      "text/plain": [
       "<Figure size 432x288 with 1 Axes>"
      ]
     },
     "metadata": {
      "needs_background": "light"
     },
     "output_type": "display_data"
    }
   ],
   "source": [
    "sumas=[]\n",
    "\n",
    "for i in range(0,cantNumeros):\n",
    "    dado1=random.randint(1,7)\n",
    "    dado2=random.randint(1,7)\n",
    "    sumas.append(dado1+dado2)    \n",
    "# print(sumas)\n",
    "#intervalos=range(min(sumas),max(sumas)+2)\n",
    "intervalos=range(2,12+2)#Le sumo mas dos caso contrario no sale en la grafica\n",
    "\n",
    "plot.hist(x=sumas,bins=intervalos,color=\"red\", rwidth=0.85)\n",
    "plot.title('Histograma resultados')\n",
    "plot.xlabel('numeros')\n",
    "plot.ylabel('Frecuencia')\n",
    "plot.xticks(intervalos)\n",
    "\n",
    "plot.show() #dibujamos el histograma\n",
    "#print(\"Dados = \",dado1,\"dato 2= \",dado2)"
   ]
  }
 ],
 "metadata": {
  "celltoolbar": "Tags",
  "kernelspec": {
   "display_name": "Python 3",
   "language": "python",
   "name": "python3"
  },
  "language_info": {
   "codemirror_mode": {
    "name": "ipython",
    "version": 3
   },
   "file_extension": ".py",
   "mimetype": "text/x-python",
   "name": "python",
   "nbconvert_exporter": "python",
   "pygments_lexer": "ipython3",
   "version": "3.8.5"
  },
  "papermill": {
   "default_parameters": {},
   "duration": 3.725676,
   "end_time": "2021-12-12T21:44:22.273937",
   "environment_variables": {},
   "exception": null,
   "input_path": "CuadernoParametros.ipynb",
   "output_path": "CuadernoParametros_out.ipynb",
   "parameters": {
    "cantNumeros": "2000"
   },
   "start_time": "2021-12-12T21:44:18.548261",
   "version": "2.3.3"
  }
 },
 "nbformat": 4,
 "nbformat_minor": 5
}